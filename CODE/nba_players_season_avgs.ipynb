{
 "cells": [
  {
   "cell_type": "code",
   "execution_count": null,
   "id": "9217dd8a",
   "metadata": {},
   "outputs": [],
   "source": [
    "import pandas as pd \n",
    "import numpy as np \n",
    "import datetime as dt"
   ]
  },
  {
   "cell_type": "code",
   "execution_count": null,
   "id": "903a56ca",
   "metadata": {},
   "outputs": [],
   "source": [
    "game_data = pd.read_csv('./data/PlayerStatistics.csv')"
   ]
  },
  {
   "cell_type": "code",
   "execution_count": null,
   "id": "9b39af47",
   "metadata": {},
   "outputs": [],
   "source": [
    "# See dataset info\n",
    "game_data.info()"
   ]
  },
  {
   "cell_type": "code",
   "execution_count": null,
   "id": "c8dd97c9",
   "metadata": {},
   "outputs": [],
   "source": [
    "#dataset preview \n",
    "game_data"
   ]
  },
  {
   "cell_type": "code",
   "execution_count": null,
   "id": "d2d06d03",
   "metadata": {},
   "outputs": [],
   "source": [
    "#convert date column to DT \n",
    "game_data['gameDate'] = pd.to_datetime(game_data['gameDate'])\n",
    "#filtering 2008 season and on\n",
    "games_post_08 = game_data.loc[(game_data['gameDate'] >= '2008-09-01')]"
   ]
  },
  {
   "cell_type": "code",
   "execution_count": null,
   "id": "8cb6f298",
   "metadata": {},
   "outputs": [],
   "source": [
    "#games_post_08.info()\n",
    "games_post_08['gameType'].unique()"
   ]
  },
  {
   "cell_type": "code",
   "execution_count": null,
   "id": "5141074b",
   "metadata": {},
   "outputs": [],
   "source": [
    "#split out by season then append \n",
    "#potentially better way to do this but got tricky with COVID scheduling affects\n",
    "\n",
    "season_2008_2009 = games_post_08[(games_post_08['gameDate'] > '2008-09-01') & \n",
    "                                                (games_post_08['gameDate'] <= '2009-07-30')]\n",
    "season_2008_2009['season'] = '2008-2009'\n",
    "\n",
    "season_2009_2010 = games_post_08[(games_post_08['gameDate'] > '2009-09-01') & \n",
    "                                                (games_post_08['gameDate'] <= '2010-07-30')]\n",
    "season_2009_2010['season'] = '2009-2010'\n",
    "\n",
    "season_2010_2011 = games_post_08[(games_post_08['gameDate'] > '2010-09-01') & \n",
    "                                                (games_post_08['gameDate'] <= '2011-07-30')]\n",
    "season_2010_2011['season'] = '2010-2011'\n",
    "\n",
    "season_2011_2012 = games_post_08[(games_post_08['gameDate'] > '2011-09-01') & \n",
    "                                                (games_post_08['gameDate'] <= '2012-07-30')]\n",
    "season_2011_2012['season'] = '2011-2012'\n",
    "\n",
    "season_2012_2013 = games_post_08[(games_post_08['gameDate'] > '2012-09-01') & \n",
    "                                                (games_post_08['gameDate'] <= '2013-07-30')]\n",
    "season_2012_2013['season'] = '2012-2013'\n",
    "\n",
    "season_2013_2014 = games_post_08[(games_post_08['gameDate'] > '2013-09-01') & \n",
    "                                                (games_post_08['gameDate'] <= '2014-07-30')]\n",
    "season_2013_2014['season'] = '2013-2014'\n",
    "\n",
    "season_2014_2015 = games_post_08[(games_post_08['gameDate'] > '2014-09-01') & \n",
    "                                                (games_post_08['gameDate'] <= '2015-07-30')]\n",
    "season_2014_2015['season'] = '2014-2015'\n",
    "\n",
    "season_2015_2016 = games_post_08[(games_post_08['gameDate'] > '2015-09-01') & \n",
    "                                                (games_post_08['gameDate'] <= '2016-07-30')]\n",
    "season_2015_2016['season'] = '2015-2016'\n",
    "\n",
    "season_2016_2017 = games_post_08[(games_post_08['gameDate'] > '2016-09-01') & \n",
    "                                                (games_post_08['gameDate'] <= '2017-07-30')]\n",
    "season_2016_2017['season'] = '2016-2017'\n",
    "\n",
    "season_2017_2018 = games_post_08[(games_post_08['gameDate'] > '2017-09-01') & \n",
    "                                                (games_post_08['gameDate'] <= '2018-07-30')]\n",
    "season_2017_2018['season'] = '2017-2018'\n",
    "\n",
    "season_2018_2019 = games_post_08[(games_post_08['gameDate'] > '2018-09-01') & \n",
    "                                                (games_post_08['gameDate'] <= '2019-07-30')]\n",
    "season_2018_2019['season'] = '2018-2019'\n",
    "\n",
    "#COVID YEAR\n",
    "season_2019_2020 = games_post_08[(games_post_08['gameDate'] > '2019-09-01') & \n",
    "                                                (games_post_08['gameDate'] <= '2020-10-13')]\n",
    "season_2019_2020['season'] = '2019-2020'\n",
    "\n",
    "# late start due to prev year \n",
    "season_2020_2021 = games_post_08[(games_post_08['gameDate'] > '2020-12-20') & \n",
    "                                                (games_post_08['gameDate'] <= '2021-07-30')]\n",
    "season_2020_2021['season'] = '2020-2021'\n",
    "\n",
    "season_2021_2022 = games_post_08[(games_post_08['gameDate'] > '2021-09-01') & \n",
    "                                                (games_post_08['gameDate'] <= '2022-07-30')]\n",
    "season_2021_2022['season'] = '2021-2022'\n",
    "\n",
    "season_2022_2023 = games_post_08[(games_post_08['gameDate'] > '2022-09-01') & \n",
    "                                                (games_post_08['gameDate'] <= '2023-07-30')]\n",
    "season_2022_2023['season'] = '2022-2023'\n",
    "\n",
    "season_2023_2024 = games_post_08[(games_post_08['gameDate'] > '2023-09-01') & \n",
    "                                                (games_post_08['gameDate'] <= '2024-07-30')]\n",
    "season_2023_2024['season'] = '2023-2024'\n",
    "\n",
    "season_2024_2025 = games_post_08[(games_post_08['gameDate'] > '2024-09-01') & \n",
    "                                                (games_post_08['gameDate'] <= '2025-07-30')]\n",
    "season_2024_2025['season'] = '2024-2025'\n",
    "                                                                               \n",
    "                                                                               \n",
    "df_list = [season_2008_2009, season_2009_2010, season_2010_2011, season_2011_2012, season_2012_2013, \n",
    "          season_2013_2014, season_2014_2015, season_2015_2016, season_2016_2017, season_2017_2018, \n",
    "          season_2018_2019, season_2019_2020, season_2020_2021, season_2021_2022, season_2022_2023, \n",
    "          season_2023_2024, season_2024_2025]                                                                               "
   ]
  },
  {
   "cell_type": "code",
   "execution_count": null,
   "id": "1c859665",
   "metadata": {},
   "outputs": [],
   "source": [
    "game_data_szn = pd.concat(df_list)"
   ]
  },
  {
   "cell_type": "code",
   "execution_count": null,
   "id": "453abd2d",
   "metadata": {},
   "outputs": [],
   "source": [
    "#look at data closer using Kevin Durant \n",
    "KD = game_data_szn[game_data_szn['personId'] == 201142]\n",
    "KD = KD[KD['season']=='2023-2024']\n",
    "KD['numMinutes'].unique()\n",
    "KD.to_csv('./data/KD-2324-test.csv')"
   ]
  },
  {
   "cell_type": "code",
   "execution_count": null,
   "id": "d7c893cf",
   "metadata": {},
   "outputs": [],
   "source": [
    "#get only regular season for now: recent years include nba cup\n",
    "#filter out NAs in numMinutes\n",
    "game_data_regSzn = game_data_szn[(game_data_szn['gameType'] == 'Regular Season') | \n",
    "                                 (game_data_szn['gameType'] == 'NBA Emirates Cup') |\n",
    "                                 (game_data_szn['gameType'] == 'NBA Cup')]\n",
    "game_data_regSzn = game_data_regSzn[game_data_regSzn['numMinutes'].notna()]\n",
    "game_data_regSzn = game_data_regSzn[game_data_regSzn['numMinutes'] > 0]"
   ]
  },
  {
   "cell_type": "code",
   "execution_count": null,
   "id": "d0a88b0f",
   "metadata": {},
   "outputs": [],
   "source": [
    "szn_avg = game_data_regSzn.groupby(['personId', 'season']).agg({\n",
    "    'gameId': 'count',\n",
    "    'numMinutes': 'mean',\n",
    "    'points': 'mean',\n",
    "    'assists': 'mean',\n",
    "    'blocks': 'mean',\n",
    "    'steals': 'mean',\n",
    "    'fieldGoalsAttempted': 'mean',\n",
    "    'fieldGoalsMade': 'mean',\n",
    "    'fieldGoalsPercentage': 'mean',\n",
    "    'threePointersAttempted': 'mean',\n",
    "    'threePointersMade': 'mean',\n",
    "    'threePointersPercentage': 'mean',\n",
    "    'freeThrowsAttempted': 'mean',\n",
    "    'freeThrowsMade': 'mean',\n",
    "    'freeThrowsPercentage': 'mean',\n",
    "    'reboundsDefensive': 'mean',\n",
    "    'reboundsOffensive': 'mean',\n",
    "    'reboundsTotal': 'mean',\n",
    "    'foulsPersonal': 'mean',\n",
    "    'turnovers': 'mean', \n",
    "    'plusMinusPoints': 'mean' \n",
    "}).reset_index()"
   ]
  },
  {
   "cell_type": "code",
   "execution_count": null,
   "id": "d268dd07",
   "metadata": {},
   "outputs": [],
   "source": [
    "szn_avg"
   ]
  },
  {
   "cell_type": "code",
   "execution_count": null,
   "id": "7c882266",
   "metadata": {},
   "outputs": [],
   "source": [
    "#check season column values\n",
    "szn_avg['season'].unique()"
   ]
  },
  {
   "cell_type": "code",
   "execution_count": null,
   "id": "3af7b934",
   "metadata": {},
   "outputs": [],
   "source": [
    "szn_avg.info()"
   ]
  },
  {
   "cell_type": "code",
   "execution_count": null,
   "id": "abc008ca",
   "metadata": {},
   "outputs": [],
   "source": [
    "#read in player identification data\n",
    "players = pd.read_csv('./data/Players.csv')\n",
    "players"
   ]
  },
  {
   "cell_type": "code",
   "execution_count": null,
   "id": "7daced1b",
   "metadata": {},
   "outputs": [],
   "source": [
    "player_avgs = pd.merge(szn_avg,players,how='inner',on='personId')\n",
    "player_avgs"
   ]
  },
  {
   "cell_type": "code",
   "execution_count": null,
   "id": "6e41eeda",
   "metadata": {},
   "outputs": [],
   "source": [
    "player_avgs.to_csv('./data/player_avgs_2008-2025.csv')"
   ]
  },
  {
   "cell_type": "code",
   "execution_count": null,
   "id": "d32c57bf",
   "metadata": {},
   "outputs": [],
   "source": [
    "#spot check using Kevin Durant \n",
    "player_avgs[player_avgs['lastName']=='Durant']"
   ]
  },
  {
   "cell_type": "code",
   "execution_count": null,
   "id": "dfee4b25",
   "metadata": {},
   "outputs": [],
   "source": [
    "#combining all box score data with player data \n",
    "reg_szn_player_data = pd.merge(game_data_regSzn,players,how='inner',on='personId')\n",
    "reg_szn_player_data = reg_szn_player_data.drop(columns=['firstName_y', 'lastName_y'])\n",
    "reg_szn_player_data = reg_szn_player_data.rename(columns={'firstName_x': 'firstName', 'lastName_x': 'lastName'})\n",
    "reg_szn_player_data.columns"
   ]
  },
  {
   "cell_type": "code",
   "execution_count": null,
   "id": "91e8a058",
   "metadata": {},
   "outputs": [],
   "source": [
    "#function to gather a players best games: \n",
    "def best_games(game_data, last_name, first_name): \n",
    "    game_data_player = game_data[(game_data['firstName']==first_name) & (game_data['lastName']==last_name)]\n",
    "    game_data_player['combo'] =  (game_data_player['points'] + game_data_player['reboundsTotal'] + \n",
    "                                  game_data_player['assists'] + game_data_player['steals'] + \n",
    "                                 game_data_player['blocks'])\n",
    "    best_games_sort = game_data_player.sort_values('combo', ascending=False)\n",
    "    return best_games_sort[['firstName', 'lastName', 'personId', 'gameId', 'gameDate', 'playerteamCity', \n",
    "                            'playerteamName', 'opponentteamCity', 'opponentteamName', 'numMinutes', 'points', \n",
    "                            'assists', 'blocks', 'steals', 'fieldGoalsPercentage', 'freeThrowsAttempted', \n",
    "                            'freeThrowsMade', 'reboundsDefensive', 'reboundsOffensive', 'reboundsTotal', \n",
    "                            'turnovers', 'plusMinusPoints','combo','season']].head(5)"
   ]
  },
  {
   "cell_type": "code",
   "execution_count": null,
   "id": "9efd2fe1",
   "metadata": {},
   "outputs": [],
   "source": [
    "best_games(reg_szn_player_data, \"Livingston\", \"Shaun\")"
   ]
  },
  {
   "cell_type": "code",
   "execution_count": null,
   "id": "132cf7a7",
   "metadata": {},
   "outputs": [],
   "source": [
    "#get best games dataset\n",
    "reg_szn_player_data['combo'] = (reg_szn_player_data['points'] + reg_szn_player_data['reboundsTotal'] + \n",
    "                            reg_szn_player_data['assists'] + reg_szn_player_data['steals'] + \n",
    "                            reg_szn_player_data['blocks'])\n",
    "\n",
    "best_games_sort = reg_szn_player_data.sort_values(['personId', 'combo'], ascending=[True, False])\n",
    "\n",
    "best_games_limited = best_games_sort.groupby('personId').head(4)\n",
    "best_games_limited = best_games_limited[['firstName', 'lastName', 'personId', 'gameId', 'gameDate', 'playerteamCity', \n",
    "                            'playerteamName', 'opponentteamCity', 'opponentteamName', 'numMinutes', 'points', \n",
    "                            'assists', 'blocks', 'steals', 'fieldGoalsPercentage', 'freeThrowsAttempted', \n",
    "                            'freeThrowsMade', 'reboundsDefensive', 'reboundsOffensive', 'reboundsTotal', \n",
    "                            'turnovers', 'plusMinusPoints','season']]\n",
    "\n",
    "best_games_limited\n",
    "\n"
   ]
  },
  {
   "cell_type": "code",
   "execution_count": null,
   "id": "cd4e287f",
   "metadata": {},
   "outputs": [],
   "source": [
    "best_games_limited.to_csv('./data/player_best_games.csv')"
   ]
  },
  {
   "cell_type": "code",
   "execution_count": null,
   "id": "533c154b",
   "metadata": {},
   "outputs": [],
   "source": [
    "def best_season(season_data, last_name, first_name):\n",
    "    season_data = season_data[(season_data['firstName']==first_name) & (season_data['lastName']==last_name)]\n",
    "    season_data['combo'] =  (season_data['points'] + season_data['reboundsTotal'] + season_data['assists'] + \n",
    "                             season_data['steals'] + season_data['blocks'])\n",
    "    best_szns_sort = season_data.sort_values('combo', ascending=False)\n",
    "    return best_szns_sort[['firstName', 'lastName', 'personId', 'numMinutes', 'points', \n",
    "                        'assists', 'blocks', 'steals', 'fieldGoalsPercentage', 'freeThrowsAttempted', \n",
    "                        'freeThrowsMade', 'reboundsDefensive', 'reboundsOffensive', 'reboundsTotal', \n",
    "                        'turnovers', 'plusMinusPoints', 'season']].head(3)\n",
    "    "
   ]
  },
  {
   "cell_type": "code",
   "execution_count": null,
   "id": "b281384b",
   "metadata": {},
   "outputs": [],
   "source": [
    "best_season(player_avgs, 'Williams', 'Deron')"
   ]
  },
  {
   "cell_type": "code",
   "execution_count": null,
   "id": "fa6b3249",
   "metadata": {},
   "outputs": [],
   "source": [
    "#get player peak 3 seasons \n",
    "player_avgs['combo'] = (player_avgs['points'] + player_avgs['reboundsTotal'] + player_avgs['assists'] + \n",
    "                        player_avgs['steals'] + player_avgs['blocks'])\n",
    "best_seasons_sort = player_avgs.sort_values(['personId', 'combo'], ascending=[True, False])\n",
    "best_seasons_limited = best_seasons_sort.groupby('personId').head(3)\n",
    "best_seasons = best_seasons_limited[['firstName', 'lastName', 'personId', 'numMinutes', 'points', \n",
    "                        'assists', 'blocks', 'steals', 'fieldGoalsPercentage', 'freeThrowsAttempted', \n",
    "                        'freeThrowsMade', 'reboundsDefensive', 'reboundsOffensive', 'reboundsTotal', \n",
    "                        'turnovers', 'plusMinusPoints', 'season']]"
   ]
  },
  {
   "cell_type": "code",
   "execution_count": null,
   "id": "e4f688d0",
   "metadata": {},
   "outputs": [],
   "source": [
    "best_seasons[best_seasons['personId']== 101114]"
   ]
  },
  {
   "cell_type": "code",
   "execution_count": null,
   "id": "c11a6773",
   "metadata": {},
   "outputs": [],
   "source": [
    "best_seasons.to_csv('./data/player_best_seasons.csv')"
   ]
  },
  {
   "cell_type": "code",
   "execution_count": null,
   "id": "6c819718",
   "metadata": {},
   "outputs": [],
   "source": []
  }
 ],
 "metadata": {
  "kernelspec": {
   "display_name": "Python 3 (ipykernel)",
   "language": "python",
   "name": "python3"
  },
  "language_info": {
   "codemirror_mode": {
    "name": "ipython",
    "version": 3
   },
   "file_extension": ".py",
   "mimetype": "text/x-python",
   "name": "python",
   "nbconvert_exporter": "python",
   "pygments_lexer": "ipython3",
   "version": "3.11.5"
  }
 },
 "nbformat": 4,
 "nbformat_minor": 5
}
